{
 "cells": [
  {
   "cell_type": "markdown",
   "id": "f8326ce5",
   "metadata": {},
   "source": [
    "# Dado um vetor que guarda o valor de faturamento diário de uma distribuidora, faça um programa, na linguagem que desejar, que calcule e retorne:\n",
    "- O menor valor de faturamento ocorrido em um dia do mês;\n",
    "- O maior valor de faturamento ocorrido em um dia do mês;\n",
    "- Número de dias no mês em que o valor de faturamento diário foi superior à média mensal.\n",
    "\n",
    "IMPORTANTE:\n",
    "1. Usar o json ou xml disponível como fonte dos dados do faturamento mensal;\n",
    "2. Podem existir dias sem faturamento, como nos finais de semana e feriados. Estes dias devem ser ignorados no cálculo da média;"
   ]
  },
  {
   "cell_type": "code",
   "execution_count": 94,
   "id": "108423a5",
   "metadata": {},
   "outputs": [
    {
     "data": {
      "text/plain": [
       "[{'dia': 1, 'valor': 22174.1664},\n",
       " {'dia': 2, 'valor': 24537.6698},\n",
       " {'dia': 3, 'valor': 26139.6134},\n",
       " {'dia': 4, 'valor': 0.0},\n",
       " {'dia': 5, 'valor': 0.0},\n",
       " {'dia': 6, 'valor': 26742.6612},\n",
       " {'dia': 7, 'valor': 0.0},\n",
       " {'dia': 8, 'valor': 42889.2258},\n",
       " {'dia': 9, 'valor': 46251.174},\n",
       " {'dia': 10, 'valor': 11191.4722},\n",
       " {'dia': 11, 'valor': 0.0},\n",
       " {'dia': 12, 'valor': 0.0},\n",
       " {'dia': 13, 'valor': 3847.4823},\n",
       " {'dia': 14, 'valor': 373.7838},\n",
       " {'dia': 15, 'valor': 2659.7563},\n",
       " {'dia': 16, 'valor': 48924.2448},\n",
       " {'dia': 17, 'valor': 18419.2614},\n",
       " {'dia': 18, 'valor': 0.0},\n",
       " {'dia': 19, 'valor': 0.0},\n",
       " {'dia': 20, 'valor': 35240.1826},\n",
       " {'dia': 21, 'valor': 43829.1667},\n",
       " {'dia': 22, 'valor': 18235.6852},\n",
       " {'dia': 23, 'valor': 4355.0662},\n",
       " {'dia': 24, 'valor': 13327.1025},\n",
       " {'dia': 25, 'valor': 0.0},\n",
       " {'dia': 26, 'valor': 0.0},\n",
       " {'dia': 27, 'valor': 25681.8318},\n",
       " {'dia': 28, 'valor': 1718.1221},\n",
       " {'dia': 29, 'valor': 13220.495},\n",
       " {'dia': 30, 'valor': 8414.61}]"
      ]
     },
     "metadata": {},
     "output_type": "display_data"
    }
   ],
   "source": [
    "import json\n",
    "\n",
    "with open(\"dados.json\", encoding='utf-8') as meu_json:\n",
    "    dados = json.load(meu_json)\n",
    "\n",
    "display(dados)"
   ]
  },
  {
   "cell_type": "code",
   "execution_count": 170,
   "id": "2b732e59",
   "metadata": {},
   "outputs": [
    {
     "name": "stdout",
     "output_type": "stream",
     "text": [
      "Menor valor de faturamento diário do mês: R$0.00\n",
      "Menor valor de faturamento diário do mês (Sem os valores zerados): R$373.78\n",
      "Maior valor de faturamento diário do mês: R$48,924.24\n"
     ]
    }
   ],
   "source": [
    "# menor valor de faturamento ocorrido em um dia do mês\n",
    "menor_valor = min([i['valor'] for i in dados])\n",
    "print(f\"Menor valor de faturamento diário do mês: R${menor_valor:,.2f}\")\n",
    "\n",
    "# tirando os valores zerados da análise\n",
    "valores = [i['valor'] for i in dados if i['valor'] > 0]\n",
    "\n",
    "# menor valor de faturamento após a limpeza de números zerados\n",
    "menor_valor = min(valores) if valores else 0\n",
    "print(f\"Menor valor de faturamento diário do mês (Sem os valores zerados): R${menor_valor:,.2f}\")\n",
    "\n",
    "# maior valor de faturamento ocorrido em um dia do mês\n",
    "maior_valor = max([i['valor'] for i in dados])\n",
    "print(f\"Maior valor de faturamento diário do mês: R${maior_valor:,.2f}\")"
   ]
  },
  {
   "cell_type": "code",
   "execution_count": 182,
   "id": "083c743e",
   "metadata": {},
   "outputs": [
    {
     "name": "stdout",
     "output_type": "stream",
     "text": [
      "A média mensal é de: R$20,865.37\n"
     ]
    }
   ],
   "source": [
    "# cálculo da média mensal\n",
    "soma_total = sum([i['valor'] for i in dados])\n",
    "media_mensal = soma_total / len(valores)\n",
    "print(f\"A média mensal é de: R${media_mensal:,.2f}\")"
   ]
  },
  {
   "cell_type": "code",
   "execution_count": 183,
   "id": "be8d1ccb",
   "metadata": {},
   "outputs": [
    {
     "name": "stdout",
     "output_type": "stream",
     "text": [
      "Número de dias no mes em que o valor foi superior a média mensal: 10 dias\n"
     ]
    }
   ],
   "source": [
    "dias_maior_media = sum(1 for i in dados if i['valor'] >= media_mensal)\n",
    "print(f\"Número de dias no mes em que o valor foi superior a média mensal: {dias_acima_media} dias\")"
   ]
  },
  {
   "cell_type": "markdown",
   "id": "e034c586",
   "metadata": {},
   "source": [
    "### Resultado Final"
   ]
  },
  {
   "cell_type": "code",
   "execution_count": 192,
   "id": "e4ce2f89",
   "metadata": {},
   "outputs": [
    {
     "name": "stdout",
     "output_type": "stream",
     "text": [
      "Menor valor de faturamento diário do mês: R$373.78\n",
      "----------------------------------------------------------------------------------------------------\n",
      "Menor valor de faturamento diário do mês (Sem os valores zerados): R$373.78\n",
      "----------------------------------------------------------------------------------------------------\n",
      "Maior valor de faturamento diário do mês: R$48,924.24\n",
      "----------------------------------------------------------------------------------------------------\n",
      "A média mensal é de: R$20,865.37\n",
      "----------------------------------------------------------------------------------------------------\n",
      "Número de dias no mes em que o valor foi superior a média mensal: 10 dias\n"
     ]
    }
   ],
   "source": [
    "print(f\"Menor valor de faturamento diário do mês: R${menor_valor:,.2f}\")\n",
    "print(\"-\"*100)\n",
    "\n",
    "print(f\"Menor valor de faturamento diário do mês (Sem os valores zerados): R${menor_valor:,.2f}\")\n",
    "print(\"-\"*100)\n",
    "\n",
    "print(f\"Maior valor de faturamento diário do mês: R${maior_valor:,.2f}\")\n",
    "print(\"-\"*100)\n",
    "\n",
    "print(f\"A média mensal é de: R${media_mensal:,.2f}\")\n",
    "print(\"-\"*100)\n",
    "\n",
    "print(f\"Número de dias no mes em que o valor foi superior a média mensal: {dias_acima_media} dias\")"
   ]
  },
  {
   "cell_type": "code",
   "execution_count": null,
   "id": "f41aa4be",
   "metadata": {},
   "outputs": [],
   "source": []
  }
 ],
 "metadata": {
  "kernelspec": {
   "display_name": "Python 3 (ipykernel)",
   "language": "python",
   "name": "python3"
  },
  "language_info": {
   "codemirror_mode": {
    "name": "ipython",
    "version": 3
   },
   "file_extension": ".py",
   "mimetype": "text/x-python",
   "name": "python",
   "nbconvert_exporter": "python",
   "pygments_lexer": "ipython3",
   "version": "3.9.12"
  }
 },
 "nbformat": 4,
 "nbformat_minor": 5
}
